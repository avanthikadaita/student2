{
  "cells": [
    {
      "cell_type": "code",
      "execution_count": 1,
      "id": "18bf60ec",
      "metadata": {
        "vscode": {
          "languageId": "javascript"
        }
      },
      "outputs": [
        {
          "data": {
            "application/javascript": "\n\ndocument.getElementById('practice-form').addEventListener('submit', (e) => {\n    e.preventDefault();\n    const username = document.getElementById('username').value;\n    const instrument = document.getElementById('instrument').value;\n    const minutes = document.getElementById('minutes').value;\n    const date = document.getElementById('date').value;\n    const formData = {\n        username,\n        instrument,\n        minutes,\n        date\n    };\n    fetch('https://bella-flask-portfolio.stu.nighthawkcodingsociety.com/api/users/', {\n        method: 'POST',\n        headers: {\n            'Content-Type': 'application/json',\n        },\n        body: JSON.stringify(formData),\n    })\n    .then(response => response.json())\n    .then(data => {\n        console.log(data.message);\n    })\n    .catch(error => {\n        console.error('Error:', error);\n    });\n});\n",
            "text/plain": [
              "<IPython.core.display.Javascript object>"
            ]
          },
          "metadata": {},
          "output_type": "display_data"
        }
      ],
      "source": [
        "%%js\n",
        "\n",
        "\n",
        "document.getElementById('practice-form').addEventListener('submit', (e) => {\n",
        "    e.preventDefault();\n",
        "    const username = document.getElementById('username').value;\n",
        "    const instrument = document.getElementById('instrument').value;\n",
        "    const minutes = document.getElementById('minutes').value;\n",
        "    const date = document.getElementById('date').value;\n",
        "    const formData = {\n",
        "        username,\n",
        "        instrument,\n",
        "        minutes,\n",
        "        date\n",
        "    };\n",
        "    fetch('https://bella-flask-portfolio.stu.nighthawkcodingsociety.com/api/users/', {\n",
        "        method: 'POST',\n",
        "        headers: {\n",
        "            'Content-Type': 'application/json',\n",
        "        },\n",
        "        body: JSON.stringify(formData),\n",
        "    })\n",
        "    .then(response => response.json())\n",
        "    .then(data => {\n",
        "        console.log(data.message);\n",
        "    })\n",
        "    .catch(error => {\n",
        "        console.error('Error:', error);\n",
        "    });\n",
        "});"
      ]
    }
  ],
  "metadata": {
    "colab": {
      "provenance": []
    },
    "kernelspec": {
      "display_name": "Python 3 (ipykernel)",
      "language": "python",
      "name": "python3"
    },
    "language_info": {
      "codemirror_mode": {
        "name": "ipython",
        "version": 3
      },
      "file_extension": ".py",
      "mimetype": "text/x-python",
      "name": "python",
      "nbconvert_exporter": "python",
      "pygments_lexer": "ipython3",
      "version": "3.12.0"
    }
  },
  "nbformat": 4,
  "nbformat_minor": 5
}

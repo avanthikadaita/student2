{
 "cells": [
  {
   "cell_type": "markdown",
   "metadata": {},
   "source": [
    "A Boolean value is either true or false.\n",
    "A Boolean expression produces a Boolean value when evaluated."
   ]
  },
  {
   "cell_type": "markdown",
   "metadata": {},
   "source": [
    "Conditional (“if”) statements: Affect the sequential flow of control by executing different statements based on the value of a Boolean expression.\n",
    "\n",
    "IF (condition)\n",
    "{\n",
    "\t<block of statements>\n",
    "}\n",
    "\n",
    "The code in <block of statements> is executed if the Boolean expression condition evaluates to true; no action is taken if condition evaluates to false.\n",
    "\n",
    "IF (condition)\n",
    "{\n",
    "\t<block of statements>\n",
    "}\n",
    "ELSE\n",
    "{\n",
    "\t<second block of statements>\n",
    "}\n",
    "\n",
    "The code in the first <block of statements> is executed if the Boolean expression condition evaluates to true; otherwise, the code in <second block of statements> is executed.\n",
    "\n",
    "Question: Calculate the sum of 2 numbers. If the sum is greater than 10, display 10; otherwise, display the sum.\n",
    "\n",
    "num1 ← INPUT\n",
    "num2 ← INPUT\n",
    "sum ← num1 + num2\n",
    "IF (sum > 10)\n",
    "{\n",
    "\tDISPLAY (10)\n",
    "}\n",
    "ELSE\n",
    "{\n",
    "\tDISPLAY (sum)\n",
    "}\n"
   ]
  },
  {
   "cell_type": "code",
   "execution_count": null,
   "metadata": {},
   "outputs": [],
   "source": [
    "# Hack 1\n",
    "\n",
    "# Add a variable that represents an age.\n",
    "\n",
    "# Add an 'if' and 'print' function that says \"You are an adult\" if your age is greater than or equal to 18.\n",
    "\n",
    "# Make a function that prints \"You are a minor\" with the else function."
   ]
  },
  {
   "cell_type": "markdown",
   "metadata": {},
   "source": [
    "Relational operators: Used to test the relationship between 2 variables, expressions, or values. These relational operators are used for comparisons and they evaluate to a Boolean value (true or false).\n",
    "\n",
    "Ex. a = b evaluates to true if a and b are equal, otherwise evaluates to false\n",
    "\n",
    "a == b (equals)\t\n",
    "a != b (not equal to)\n",
    "a > b (greater than)\n",
    "a < b (less than)\n",
    "a >= b (greater than or equal to)\n",
    "a <= b (less than or equal to)\n",
    "\n",
    "Question: The legal age to work in California is 14 years old. How would we write a Boolean expression to check if someone is at least 14 years old?\n",
    "\n",
    "age ≥ 14\n",
    "\n",
    "Question: Write a Boolean expression to check if the average of height1, height2, and height3 is at least 65 inches.\n",
    "\n",
    "(height1 + height2 + height3) / 3 ≥ 65\n"
   ]
  },
  {
   "cell_type": "code",
   "execution_count": null,
   "metadata": {},
   "outputs": [],
   "source": [
    "# Hack 2\n",
    "\n",
    "# Make a variable called 'is_raining' and set it to 'True\".\n",
    "\n",
    "# Make an if statement that prints \"Bring an umbrella!\" if it is true\n",
    "\n",
    "# Make an else statement that says \"The weather is clear\"."
   ]
  },
  {
   "cell_type": "markdown",
   "metadata": {},
   "source": [
    "Logical operators: Used to evaluate multiple conditions to produce a single Boolean value.\n",
    "\n",
    "NOT\tevaluates to true if condition is false, otherwise evaluates to false\n",
    "AND\tevaluates to true if both conditions are true, otherwise evaluates to false\n",
    "OR\tevaluates to true if either condition is true or if both conditions are true, otherwise evaluates to false\n",
    "\n",
    "Question: You win the game if you score at least 10 points and have 5 lives left or if you score at least 50 points and have more than 0 lives left. Write the Boolean expression for this scenario.\n",
    "\n",
    "(score ≥ 10 AND lives = 5) OR (score = 50 AND lives > 0)"
   ]
  },
  {
   "cell_type": "markdown",
   "metadata": {},
   "source": [
    "Relational and logical operators:\n",
    "\n",
    "Example: These expressions are all different but will produce the same result.\n",
    "\n",
    "age ≥ 16 \t \tage > 16 OR age = 16\t\tNOT age < 16"
   ]
  },
  {
   "cell_type": "code",
   "execution_count": null,
   "metadata": {},
   "outputs": [],
   "source": [
    "# Hack 3\n",
    "\n",
    "import random\n",
    "\n",
    "# Make a function to randomize numbers between 0 and 100 to be assigned to variables a and b using random.randint\n",
    "\n",
    "# Print the values of the variables\n",
    "\n",
    "# Print the relationship of the variables; a is more than, same as, or less than b"
   ]
  },
  {
   "cell_type": "code",
   "execution_count": 2,
   "metadata": {},
   "outputs": [
    {
     "name": "stdout",
     "output_type": "stream",
     "text": [
      "Hello, avanthikadaita running /usr/local/bin/python3\n",
      "You will be asked 3 questions.\n",
      "Question: What's my name?\n",
      " is incorrect!\n",
      "Question: What is an interest I mentioned in my data tables?\n",
      " is incorrect!\n",
      "Question: What day is today?\n",
      " is incorrect!\n",
      "avanthikadaita you scored 0/3\n"
     ]
    }
   ],
   "source": [
    "import getpass, sys\n",
    "\n",
    "def question_with_response(prompt):\n",
    "    print(\"Question: \" + prompt)\n",
    "    msg = input()\n",
    "    return msg\n",
    "questions = 3 #replace 3 with number of questions here\n",
    "correct = 0\n",
    "\n",
    "print('Hello, ' + getpass.getuser() + \" running \" + sys.executable)\n",
    "print(\"You will be asked \" + str(questions) + \" questions.\")\n",
    "\n",
    "# make a variable, answer,  that equals an input to a question \n",
    "# make a variable, rsp, that responds to the question\n",
    "# if the question is correct, print (rsp + \" is correct\")\n",
    "\n",
    "answer = input(\"Are you ready to take a test?\")\n",
    "# \n",
    "rsp = question_with_response(\"What's my name?\")\n",
    "if rsp == \"response\":\n",
    "    print(getpass.getuser() + \" you scored \" + str(correct) +\"/\" + str(questions))"
   ]
  },
  {
   "cell_type": "code",
   "execution_count": 4,
   "metadata": {},
   "outputs": [
    {
     "name": "stdout",
     "output_type": "stream",
     "text": [
      "Hello,  running /usr/local/bin/python3\n",
      "You will be asked 5 questions.\n"
     ]
    },
    {
     "ename": "KeyboardInterrupt",
     "evalue": "Interrupted by user",
     "output_type": "error",
     "traceback": [
      "\u001b[0;31m---------------------------------------------------------------------------\u001b[0m",
      "\u001b[0;31mKeyboardInterrupt\u001b[0m                         Traceback (most recent call last)",
      "Cell \u001b[0;32mIn[4], line 18\u001b[0m\n\u001b[1;32m     16\u001b[0m \u001b[39mprint\u001b[39m(\u001b[39m'\u001b[39m\u001b[39mHello, \u001b[39m\u001b[39m'\u001b[39m \u001b[39m+\u001b[39m user_name \u001b[39m+\u001b[39m \u001b[39m\"\u001b[39m\u001b[39m running \u001b[39m\u001b[39m\"\u001b[39m \u001b[39m+\u001b[39m sys\u001b[39m.\u001b[39mexecutable)\n\u001b[1;32m     17\u001b[0m \u001b[39mprint\u001b[39m(\u001b[39m\"\u001b[39m\u001b[39mYou will be asked \u001b[39m\u001b[39m\"\u001b[39m \u001b[39m+\u001b[39m \u001b[39mstr\u001b[39m(questions) \u001b[39m+\u001b[39m \u001b[39m\"\u001b[39m\u001b[39m questions.\u001b[39m\u001b[39m\"\u001b[39m)\n\u001b[0;32m---> 18\u001b[0m answer \u001b[39m=\u001b[39m \u001b[39minput\u001b[39;49m(\u001b[39m\"\u001b[39;49m\u001b[39mAre you ready to take a test?\u001b[39;49m\u001b[39m\"\u001b[39;49m)\n\u001b[1;32m     20\u001b[0m \u001b[39m# Question 1: Boolean Basics\u001b[39;00m\n\u001b[1;32m     21\u001b[0m rsp \u001b[39m=\u001b[39m question_with_response(\u001b[39m\"\u001b[39m\u001b[39mWhat is a Boolean value in programming? Provide an example.\u001b[39m\u001b[39m\"\u001b[39m)\n",
      "File \u001b[0;32m/Library/Frameworks/Python.framework/Versions/3.11/lib/python3.11/site-packages/ipykernel/kernelbase.py:1202\u001b[0m, in \u001b[0;36mKernel.raw_input\u001b[0;34m(self, prompt)\u001b[0m\n\u001b[1;32m   1200\u001b[0m     msg \u001b[39m=\u001b[39m \u001b[39m\"\u001b[39m\u001b[39mraw_input was called, but this frontend does not support input requests.\u001b[39m\u001b[39m\"\u001b[39m\n\u001b[1;32m   1201\u001b[0m     \u001b[39mraise\u001b[39;00m StdinNotImplementedError(msg)\n\u001b[0;32m-> 1202\u001b[0m \u001b[39mreturn\u001b[39;00m \u001b[39mself\u001b[39;49m\u001b[39m.\u001b[39;49m_input_request(\n\u001b[1;32m   1203\u001b[0m     \u001b[39mstr\u001b[39;49m(prompt),\n\u001b[1;32m   1204\u001b[0m     \u001b[39mself\u001b[39;49m\u001b[39m.\u001b[39;49m_parent_ident[\u001b[39m\"\u001b[39;49m\u001b[39mshell\u001b[39;49m\u001b[39m\"\u001b[39;49m],\n\u001b[1;32m   1205\u001b[0m     \u001b[39mself\u001b[39;49m\u001b[39m.\u001b[39;49mget_parent(\u001b[39m\"\u001b[39;49m\u001b[39mshell\u001b[39;49m\u001b[39m\"\u001b[39;49m),\n\u001b[1;32m   1206\u001b[0m     password\u001b[39m=\u001b[39;49m\u001b[39mFalse\u001b[39;49;00m,\n\u001b[1;32m   1207\u001b[0m )\n",
      "File \u001b[0;32m/Library/Frameworks/Python.framework/Versions/3.11/lib/python3.11/site-packages/ipykernel/kernelbase.py:1245\u001b[0m, in \u001b[0;36mKernel._input_request\u001b[0;34m(self, prompt, ident, parent, password)\u001b[0m\n\u001b[1;32m   1242\u001b[0m \u001b[39mexcept\u001b[39;00m \u001b[39mKeyboardInterrupt\u001b[39;00m:\n\u001b[1;32m   1243\u001b[0m     \u001b[39m# re-raise KeyboardInterrupt, to truncate traceback\u001b[39;00m\n\u001b[1;32m   1244\u001b[0m     msg \u001b[39m=\u001b[39m \u001b[39m\"\u001b[39m\u001b[39mInterrupted by user\u001b[39m\u001b[39m\"\u001b[39m\n\u001b[0;32m-> 1245\u001b[0m     \u001b[39mraise\u001b[39;00m \u001b[39mKeyboardInterrupt\u001b[39;00m(msg) \u001b[39mfrom\u001b[39;00m \u001b[39mNone\u001b[39;00m\n\u001b[1;32m   1246\u001b[0m \u001b[39mexcept\u001b[39;00m \u001b[39mException\u001b[39;00m:\n\u001b[1;32m   1247\u001b[0m     \u001b[39mself\u001b[39m\u001b[39m.\u001b[39mlog\u001b[39m.\u001b[39mwarning(\u001b[39m\"\u001b[39m\u001b[39mInvalid Message:\u001b[39m\u001b[39m\"\u001b[39m, exc_info\u001b[39m=\u001b[39m\u001b[39mTrue\u001b[39;00m)\n",
      "\u001b[0;31mKeyboardInterrupt\u001b[0m: Interrupted by user"
     ]
    }
   ],
   "source": [
    "\n",
    "# The quiz contains questions related to Boolean values, Boolean expressions,\n",
    "# conditional statements, relational operators, and logical operators.\n",
    "\n",
    "# Import necessary modules\n",
    "import getpass  # Module to get the user's name\n",
    "import sys  # Module to access system-related information\n",
    "\n",
    "# Function to ask a question and get a response\n",
    "def question_with_response(prompt):\n",
    "    # Print the question\n",
    "    print(\"Question: \" + prompt)\n",
    "    # Get user input as the response\n",
    "    msg = input()\n",
    "    return msg\n",
    "\n",
    "# Define the number of questions and initialize the correct answers counter\n",
    "questions = 5\n",
    "correct = 0\n",
    "\n",
    "# Personalized greeting message\n",
    "# Collect the student's name\n",
    "user_name = input(\"Enter your name: \")\n",
    "print('Hello, ' + user_name + \" running \" + sys.executable)\n",
    "print(\"You will be asked \" + str(questions) + \" questions.\")\n",
    "answer = input(\"Are you ready to take a test?\")\n",
    "\n",
    "# Question 1: Boolean Basics \n",
    "# Ask a question about Boolean values and check the response\n",
    "# Provide feedback based on the correctness of the response\n",
    "\n",
    "# Question 2: Boolean Expressions\n",
    "# Ask a question about Boolean expressions and their importance in programming\n",
    "# Provide feedback based on the correctness of the response\n",
    "\n",
    "# Question 3: Conditional Statements\n",
    "# Ask a question about the purpose of conditional (if-else) statements in programming\n",
    "# Provide feedback based on the correctness of the response\n",
    "\n",
    "# Question 4: Relational Operators\n",
    "# Ask a question about common relational operators in programming and provide examples\n",
    "# Provide feedback based on the correctness of the response\n",
    "\n",
    "# Question 5: Logical Operators\n",
    "# Ask a question about the use of logical operators in programming and provide examples\n",
    "# Provide feedback based on the correctness of the response\n",
    "\n",
    "# Display the final score\n",
    "# Calculate the percentage of correct answers and provide feedback\n",
    "print(user_name + \", you scored \" + str(correct) + \"/\" + str(questions))\n"
   ]
  }
 ],
 "metadata": {
  "kernelspec": {
   "display_name": "Python 3 (ipykernel)",
   "language": "python",
   "name": "python3"
  },
  "language_info": {
   "codemirror_mode": {
    "name": "ipython",
    "version": 3
   },
   "file_extension": ".py",
   "mimetype": "text/x-python",
   "name": "python",
   "nbconvert_exporter": "python",
   "pygments_lexer": "ipython3",
   "version": "3.11.4"
  }
 },
 "nbformat": 4,
 "nbformat_minor": 4
}

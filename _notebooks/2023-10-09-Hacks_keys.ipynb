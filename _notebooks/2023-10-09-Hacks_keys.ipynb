{
 "cells": [
  {
   "cell_type": "code",
   "execution_count": null,
   "metadata": {},
   "outputs": [
    {
     "name": "stdout",
     "output_type": "stream",
     "text": [
      "You are an adult.\n"
     ]
    }
   ],
   "source": [
    "## Hack 1 Key\n",
    "\n",
    "age = 25\n",
    "\n",
    "if age >= 18:\n",
    "    print(\"You are an adult.\")\n",
    "else:\n",
    "    print(\"You are a minor.\")"
   ]
  },
  {
   "cell_type": "code",
   "execution_count": 3,
   "metadata": {},
   "outputs": [
    {
     "name": "stdout",
     "output_type": "stream",
     "text": [
      "Bring an umbrella!\n"
     ]
    }
   ],
   "source": [
    "# Hack 2 Key\n",
    "\n",
    "is_raining = True\n",
    "\n",
    "if is_raining:\n",
    "    print(\"Bring an umbrella!\")\n",
    "else:\n",
    "    print(\"The weather is clear.\")"
   ]
  },
  {
   "cell_type": "code",
   "execution_count": 2,
   "metadata": {},
   "outputs": [
    {
     "name": "stdout",
     "output_type": "stream",
     "text": [
      "34\n",
      "36\n",
      "a is less than b\n"
     ]
    }
   ],
   "source": [
    "# Hack 3 Key (Challenge)\n",
    "\n",
    "import random\n",
    "\n",
    "# Chooses a random number between 0 and 100 for each a and b\n",
    "a = random.randint(0, 100)\n",
    "b = random.randint(0, 100)\n",
    "print(a)\n",
    "print(b)\n",
    "\n",
    "# Prints the randomly assigned values of a and b (between 0 and 100)\n",
    "if a > b:\n",
    "    print(\"a is more than b\")\n",
    "elif a == b:\n",
    "    print(\"a is the same as b\")\n",
    "else:\n",
    "    print(\"a is less than b\")"
   ]
  },
  {
   "cell_type": "code",
   "execution_count": null,
   "metadata": {},
   "outputs": [],
   "source": [
    "import getpass\n",
    "import sys\n",
    "\n",
    "# Function to ask a question and get a response\n",
    "def question_with_response(prompt):\n",
    "    print(\"Question: \" + prompt)\n",
    "    msg = input()\n",
    "    return msg\n",
    "\n",
    "# Number of questions and correct answers counter\n",
    "questions = 5\n",
    "correct = 0\n",
    "\n",
    "# Personalized greeting message\n",
    "user_name = input(\"Enter your name: \")\n",
    "print('Hello, ' + user_name + \" running \" + sys.executable)\n",
    "print(\"You will be asked \" + str(questions) + \" questions.\")\n",
    "answer = input(\"Are you ready to take a test?\")\n",
    "\n",
    "# Question 1: Boolean Basics\n",
    "rsp = question_with_response(\"What is a Boolean value in programming? Provide an example.\")\n",
    "if rsp.lower() == \"a Boolean value is either true or false.\":\n",
    "    print(\"Correct! A Boolean value is either true or false.\")\n",
    "    correct += 1\n",
    "else:\n",
    "    print(\"Incorrect! A Boolean value is either true or false.\")\n",
    "\n",
    "# Question 2: Boolean Expressions\n",
    "rsp = question_with_response(\"What is a Boolean expression, and why is it important in programming? Provide an example.\")\n",
    "if \"produces a Boolean value\" in rsp.lower() and \"used for comparisons\" in rsp.lower():\n",
    "    print(\"Correct! A Boolean expression produces a Boolean value and is used for comparisons.\")\n",
    "    correct += 1\n",
    "else:\n",
    "    print(\"Incorrect! A Boolean expression produces a Boolean value and is used for comparisons.\")\n",
    "\n",
    "# Question 3: Conditional Statements\n",
    "rsp = question_with_response(\"What is the purpose of conditional (if-else) statements in programming?\")\n",
    "if \"execute different statements\" in rsp.lower() and \"based on the value of a Boolean expression\" in rsp.lower():\n",
    "    print(\"Correct! Conditional statements execute different statements based on Boolean expressions.\")\n",
    "    correct += 1\n",
    "else:\n",
    "    print(\"Incorrect! Conditional statements execute different statements based on Boolean expressions.\")\n",
    "\n",
    "# Question 4: Relational Operators\n",
    "rsp = question_with_response(\"What are some common relational operators used in programming? Provide examples.\")\n",
    "if \"equals\" in rsp.lower() and \"not equal to\" in rsp.lower() and \"greater than\" in rsp.lower():\n",
    "    print(\"Correct! Common relational operators include equals, not equal to, and greater than.\")\n",
    "    correct += 1\n",
    "else:\n",
    "    print(\"Incorrect! Common relational operators include equals, not equal to, and greater than.\")\n",
    "\n",
    "# Question 5: Logical Operators\n",
    "rsp = question_with_response(\"What are logical operators used for in programming? Provide examples of logical operators.\")\n",
    "if \"evaluate multiple conditions\" in rsp.lower() and \"produce a single Boolean value\" in rsp.lower():\n",
    "    print(\"Correct! Logical operators evaluate multiple conditions and produce a single Boolean value.\")\n",
    "    correct += 1\n",
    "else:\n",
    "    print(\"Incorrect! Logical operators evaluate multiple conditions and produce a single Boolean value.\")\n",
    "\n",
    "# Display the final score\n",
    "print(user_name + \", you scored \" + str(correct) + \"/\" + str(questions))\n"
   ]
  }
 ],
 "metadata": {
  "kernelspec": {
   "display_name": "Python 3 (ipykernel)",
   "language": "python",
   "name": "python3"
  },
  "language_info": {
   "codemirror_mode": {
    "name": "ipython",
    "version": 3
   },
   "file_extension": ".py",
   "mimetype": "text/x-python",
   "name": "python",
   "nbconvert_exporter": "python",
   "pygments_lexer": "ipython3",
   "version": "3.12.0"
  }
 },
 "nbformat": 4,
 "nbformat_minor": 4
}

{
  "cells": [
    {
      "cell_type": "code",
      "execution_count": null,
      "id": "7233e0bf",
      "metadata": {
        "vscode": {
          "languageId": "html"
        }
      },
      "outputs": [],
      "source": [
        "%%html\n",
        "\n",
        "<form action = \"javascript:practice_log()\">\n",
        "    <p><label>\n",
        "        Name:\n",
        "        <input type=\"text\" name=\"name\" id=\"name\" required=\"\" />\n",
        "    </label></p>\n",
        "    <p><label>\n",
        "        Instrument:\n",
        "        <input type=\"instrument\" name=\"instrument\" id=\"instrument\" required=\"\" />\n",
        "    <p><label>\n",
        "        Time Practiced:\n",
        "        <input type=\"number\" name=\"passwordV\" id=\"passwordV\" required=\"\" />\n",
        "    </label></p>\n",
        "    <p>\n",
        "        <button>Save</button>\n",
        "    </p>\n",
        "</form>\n",
        "<script>\n",
        "    fetch('https://ikan2025.github.io/frontend/', {\n",
        "        method: 'POST',\n",
        "        headers: {\n",
        "            'Content-Type': 'application/json',\n",
        "        },\n",
        "        body: JSON.stringify(formData),\n",
        "    })\n",
        "    .then(response => response.json())\n",
        "    .then(data => {\n",
        "        console.log(data.message);\n",
        "    })\n",
        "    .catch(error => {\n",
        "        console.error('Error:', error);\n",
        "    });"
      ]
    }
  ],
  "metadata": {
    "colab": {
      "provenance": []
    },
    "kernelspec": {
      "display_name": "Python 3 (ipykernel)",
      "language": "python",
      "name": "python3"
    },
    "language_info": {
      "codemirror_mode": {
        "name": "ipython",
        "version": 3
      },
      "file_extension": ".py",
      "mimetype": "text/x-python",
      "name": "python",
      "nbconvert_exporter": "python",
      "pygments_lexer": "ipython3",
      "version": "3.12.0"
    }
  },
  "nbformat": 4,
  "nbformat_minor": 5
}

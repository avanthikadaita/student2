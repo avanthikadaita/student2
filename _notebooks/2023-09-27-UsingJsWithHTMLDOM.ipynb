{
 "cells": [
  {
   "cell_type": "markdown",
   "metadata": {},
   "source": [
    "<!-- ---\n",
    "layout: default\n",
    "title: Web Programming Basics\n",
    "description: An introduction to key topics in Web Programming\n",
    "courses: { compsci: {week: 6} }\n",
    "type: hacks\n",
    "permalink: /basics/home\n",
    "comments: true\n",
    "--- -->"
   ]
  },
  {
   "cell_type": "code",
   "execution_count": null,
   "metadata": {
    "vscode": {
     "languageId": "html"
    }
   },
   "outputs": [],
   "source": [
    "%%html\n",
    "    <h3>HTML: This is my HTML page</h3>\n",
    "    <p>This is a test paragraph. I am trying this out for the first time in HTML. This is between two p cells. Experiment for AP CSP.</p>\n",
    "\n",
    "    <!-- Added the button with an ID 'switchButton' -->\n",
    "    <button id=\"switchButton\">CLICK ME!</button>\n",
    "\n",
    "    <a href=\"https://www.w3schools.com/html/default.asp\" id=\"link1\">Visit W3Schools HTML Page</a>\n",
    "    <a href=\"http://example.com\" id=\"link2\">Visit Example.com</a>\n",
    "\n",
    "    <div>\n",
    "        <p>Class Schedule:   </p>\n",
    "\n",
    "        <p>Period 1: Honors Humanities  </p>\n",
    "                            \n",
    "        <p>Period 2: AP CSP </p>\n",
    "            \n",
    "        <p>Period 3: AP Chemistry </p>\n",
    "            \n",
    "        <p>Period 4: World History 1 </p>\n",
    "            \n",
    "        </p>Period 5: AP Calculus </p>\n",
    "    \n",
    "        <p>Currently, \n",
    "            I am working on a presentation of Honors Humanities. It is a presentation about a painting called \"Flaming June\" by Fredric Leighton </p>\n",
    "        <p> In CSP, I am learning HTML, data types, DOM, JS, and JS debugging </p>\n",
    "        <p> World History is my easiest class. We take daily notes and do fun activities like draw visuals on how industrialization impacted our society </p>\n",
    "    \n",
    "    </div>\n",
    "\n",
    "    <h3>Below are a few examples of a-tags</h3>\n",
    "    <a href=\"http://www.gmail.com\">link text</a>\n",
    "    <a href=\"https://delnorte.powayusd.com/\">link text</a>\n",
    "\n",
    "    <div>\n",
    "        <p>For AP Chemistry, I am learning about voltaic and electrolytic cells</p>\n",
    "        <p>I am learning about oxidation and reductions reactions (redox reactions)</p>\n",
    "        <p>We have a test on Friday and next Monday which I am preparing for</p>\n",
    "    \n",
    "    </div>\n",
    "\n",
    "    <p id=\"status\">I live in Del Sur. I am a sophomore in Del Norte High School. I have a sister who is a senior in DNHS who is planning to go to a UC college to study computer science</p>\n",
    "\n",
    "    <!-- javascript goew here --\n",
    "<script>\n",
    "    function createPTag(text) {\n",
    "        var pElement = document.createElement(\"p\")\n",
    "\n",
    "        pElement.innerHTML = text\n",
    "        \n",
    "        console.log(\"Example #6, add p tag using a function\")\n",
    "        console.log(pElement)\n",
    "\n",
    "        return pElement;\n",
    "    }\n",
    "\n",
    "    var pTag = createPTag(\"Starting a paragraph with cooler text than before.\")\n",
    "\n",
    "    var div = document.getElementById(\"divContainerIDfunction\")\n",
    "    div.appendChild(pTag)\n",
    "</script>\n",
    "\n",
    "        var switchButton = document.getElementById(\"switchButton\");\n",
    "        switchButton.addEventListener(\"click\", switchLinksAndText);\n",
    "script>\n",
    "\n",
    "</body>\n",
    "</html>\n"
   ]
  },
  {
   "cell_type": "code",
   "execution_count": null,
   "metadata": {
    "vscode": {
     "languageId": "html"
    }
   },
   "outputs": [],
   "source": [
    "{% include nav_basics.html %}"
   ]
  }
 ],
 "metadata": {
  "kernelspec": {
   "display_name": "Python 3 (ipykernel)",
   "language": "python",
   "name": "python3"
  },
  "language_info": {
   "codemirror_mode": {
    "name": "ipython",
    "version": 3
   },
   "file_extension": ".py",
   "mimetype": "text/x-python",
   "name": "python",
   "nbconvert_exporter": "python",
   "pygments_lexer": "ipython3",
   "version": "3.12.0"
  }
 },
 "nbformat": 4,
 "nbformat_minor": 4
}

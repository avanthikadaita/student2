{
 "cells": [
  {
   "cell_type": "markdown",
   "metadata": {},
   "source": [
    "<!-- ---\n",
    "layout: default\n",
    "title: Web Programming Basics\n",
    "description: An introduction to key topics in Web Programming\n",
    "courses: { compsci: {week: 6} }\n",
    "type: hacks\n",
    "permalink: /basics/home\n",
    "comments: true\n",
    "--- -->"
   ]
  },
  {
   "cell_type": "code",
   "execution_count": 1,
   "metadata": {
    "vscode": {
     "languageId": "javascript"
    }
   },
   "outputs": [
    {
     "ename": "SyntaxError",
     "evalue": "invalid syntax (1070729431.py, line 1)",
     "output_type": "error",
     "traceback": [
      "\u001b[0;36m  Cell \u001b[0;32mIn[1], line 1\u001b[0;36m\u001b[0m\n\u001b[0;31m    // Objects\u001b[0m\n\u001b[0m    ^\u001b[0m\n\u001b[0;31mSyntaxError\u001b[0m\u001b[0;31m:\u001b[0m invalid syntax\n"
     ]
    }
   ],
   "source": [
    "\n",
    "// Objects\n",
    "console.log(\"Object: assigning key-value objects\")\n",
    "var obj = {\n",
    "    name: \"Avanthika Daita\",\n",
    "    age: 15,\n",
    "    classes: \"Honors Humanities, AP CSP, AP Chemistry, World History 1, AP Calculus\",\n",
    "    interests: \"Guitar, singing cooking, watching TV\",\n",
    "    grade: 10,\n",
    "    home: \"Del Sur Community\"\n",
    "};\n",
    "\n",
    "console.log(obj);\n",
    "\n",
    "// Manipulate array\n",
    "console.log(\"Array: assigning a list of strings\")\n",
    "var str1 = \"Hello world\"\n",
    "var arr_data = [str1, \"My name is Avanthika\", \"My last name is Daita\"]\n",
    "console.log(arr_data)\n",
    "\n",
    "console.log(\"Array: adding to list\")\n",
    "arr_data.push(\"I am a sophomore\")\n",
    "console.log(arr_data)\n",
    "\n",
    "\n",
    "\n",
    "// Mathematical Operations \n",
    "const agein5years = obj.age + 5;\n",
    "const doubleage = obj.age * 2;\n",
    "const halfage = obj.age / 2;\n",
    "\n",
    "console.log(\"\\nMathematical Operations:\");\n",
    "\n",
    "console.log(`In 5 years, I will be ${agein5years} years old.`);\n",
    "console.log(`Twice my age is ${doubleage}.`);\n",
    "console.log(`Half of my grade is ${halfage}.`);\n",
    "\n",
    "\n",
    "// Typeof\n",
    "\n",
    "const nameType = typeof obj.name;\n",
    "const ageType = typeof obj.age;\n",
    "const gradeType = typeof obj.grade;\n",
    "\n",
    "console.log(\"\\nTypes of Fields:\");\n",
    "console.log(`Type of 'name' field: ${nameType}`);\n",
    "console.log(`Type of 'age' field: ${ageType}`);\n",
    "console.log(`Type of 'grade' field: ${gradeType}`);\n"
   ]
  }
 ],
 "metadata": {
  "kernelspec": {
   "display_name": "Python 3 (ipykernel)",
   "language": "python",
   "name": "python3"
  },
  "language_info": {
   "codemirror_mode": {
    "name": "ipython",
    "version": 3
   },
   "file_extension": ".py",
   "mimetype": "text/x-python",
   "name": "python",
   "nbconvert_exporter": "python",
   "pygments_lexer": "ipython3",
   "version": "3.12.0"
  }
 },
 "nbformat": 4,
 "nbformat_minor": 4
}

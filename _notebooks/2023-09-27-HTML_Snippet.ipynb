{
 "cells": [
  {
   "cell_type": "markdown",
   "metadata": {},
   "source": [
    "---\n",
    "layout: default\n",
    "title: Web Programming Basics\n",
    "description: An introduction to key topics in Web Programming\n",
    "courses: { compsci: {week: 6} }\n",
    "type: hacks\n",
    "permalink: /basics/home\n",
    "hide: true\n",
    "comments: true\n",
    "---"
   ]
  },
  {
   "cell_type": "code",
   "execution_count": 17,
   "metadata": {
    "vscode": {
     "languageId": "html"
    }
   },
   "outputs": [
    {
     "ename": "SyntaxError",
     "evalue": "invalid syntax (717055723.py, line 1)",
     "output_type": "error",
     "traceback": [
      "\u001b[0;36m  Cell \u001b[0;32mIn[17], line 1\u001b[0;36m\u001b[0m\n\u001b[0;31m    <DOCTYPE html>\u001b[0m\n\u001b[0m    ^\u001b[0m\n\u001b[0;31mSyntaxError\u001b[0m\u001b[0;31m:\u001b[0m invalid syntax\n"
     ]
    }
   ],
   "source": [
    "<DOCTYPE html>\n",
    "<html>\n",
    "<head>\n",
    "    <title>HTML Hacks</title>\n",
    "</head>\n",
    "<body>\n",
    "    <h3>HTML: This is my HTML page</h3>\n",
    "    <p>This is a test paragraph. I am trying this out for the first time in HTML. This is between two p cells. Experiment for AP CSP.</p>\n",
    "\n",
    "    <button id=\"switchButton\">CLICK ME!</button>\n",
    "\n",
    "    <a href=\"https://www.w3schools.com/html/default.asp\" id=\"link1\">Visit W3Schools HTML Page</a>\n",
    "    <a href=\"http://example.com\" id=\"link2\">Visit Example.com</a>\n",
    "\n",
    "    <div>\n",
    "        <p>Class Schedule:  \n",
    "            Period 1: Honors Humanities \n",
    "                            \n",
    "            Period 2: AP CSP\n",
    "            \n",
    "            Period 3: AP Chemistry\n",
    "            \n",
    "            Period 4: World History 1\n",
    "            \n",
    "            Period 5: AP Calculus\n",
    "        </p>\n",
    "\n",
    "        <p>Currently, \n",
    "            I am working on a presentation of Honors Humanities. It is a presentation about a painting called \"Flaming June\" by Fredric Leighton\n",
    "            In CSP, I am learning HTML, data types, DOM, JS, and JS debugging \n",
    "            World History is my easiest class. We take daily notes and do fun activities like draw visuals on how industrialization impacted our society\n",
    "        </p>\n",
    "    </div>\n",
    "\n",
    "    <h3>Below are a few examples of a-tags</h3>\n",
    "    <a href=\"http://www.gmail.com\">link text</a>\n",
    "    <a href=\"https://delnorte.powayusd.com/\">link text</a>\n",
    "\n",
    "    <div>\n",
    "        <p>For AP Chemistry, I am learning about voltaic and electrolytic cells\n",
    "            I am learning about oxidation and reductions reactions (redox reactions)\n",
    "            We have a test on Friday and next Monday which I am preparing for\n",
    "        </p>\n",
    "    </div>\n",
    "\n",
    "    <p id=\"status\">I live in Del Sur. I am a sophomore in Del Norte High School. I have a sister who is a senior in DNHS who is planning to go to a UC college to study computer science</p>\n",
    "\n",
    "    <script>\n",
    "        function switchLinksAndText() {\n",
    "            var link1 = document.getElementById(\"link1\");\n",
    "            var link2 = document.getElementById(\"link2\");\n",
    "            var status = document.getElementById(\"status\");\n",
    "\n",
    "            var tempHref = link1.href;\n",
    "            link1.href = link2.href;\n",
    "            link2.href = tempHref;\n",
    "\n",
    "            status.innerHTML = \"Switched!\";\n",
    "        }\n",
    "\n",
    "        var switchButton = document.getElementById(\"switchButton\");\n",
    "        switchButton.addEventListener(\"click\", switchLinksAndText);\n",
    "    </script>\n",
    "</body>\n",
    "</html>"
   ]
  }
 ],
 "metadata": {
  "kernelspec": {
   "display_name": "Python 3 (ipykernel)",
   "language": "python",
   "name": "python3"
  },
  "language_info": {
   "codemirror_mode": {
    "name": "ipython",
    "version": 3
   },
   "file_extension": ".py",
   "mimetype": "text/x-python",
   "name": "python",
   "nbconvert_exporter": "python",
   "pygments_lexer": "ipython3",
   "version": "3.11.4"
  }
 },
 "nbformat": 4,
 "nbformat_minor": 4
}

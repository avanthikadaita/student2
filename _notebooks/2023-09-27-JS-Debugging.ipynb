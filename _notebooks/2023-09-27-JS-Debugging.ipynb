{
 "cells": [
  {
   "cell_type": "markdown",
   "metadata": {},
   "source": [
    "<!-- ---\n",
    "layout: default\n",
    "title: Web Programming Basics\n",
    "description: An introduction to key topics in Web Programming\n",
    "courses: { compsci: {week: 6} }\n",
    "type: hacks\n",
    "permalink: /basics/home\n",
    "comments: true\n",
    "--- -->"
   ]
  },
  {
   "cell_type": "markdown",
   "metadata": {
    "vscode": {
     "languageId": "html"
    }
   },
   "source": [
    "# Segement 1:\n",
    "\n",
    "%%js\n",
    "\n",
    "var alphabet = \"abcdefghijklmnopqrstuvwxyz\";\n",
    "var alphabetList = [];\n",
    "\n",
    "for (var i = 0; i < 10; i++) {\n",
    "\talphabetList.push(i);\n",
    "}\n",
    "\n",
    "console.log(alphabetList);\n",
    "\n",
    "# What I changed:\n",
    "\n",
    "I changed the loop condition to make characters go from alphabet string into the alphabetList\n",
    "\n",
    "\n",
    "\n",
    "# Segment 2:\n",
    "\n",
    "%%js\n",
    "\n",
    "// Copy your previous code to built alphabetList here\n",
    "\n",
    "let letterNumber = 5\n",
    "\n",
    "for (var i = 0; i < alphabetList; i++) {\n",
    "\tif (i === letterNumber) {\n",
    "\t\tconsole.log(letterNumber + \" is letter number 1 in the alphabet\")\n",
    "\t}\n",
    "}\n",
    "\n",
    "// Should output:\n",
    "// \"e\" is letter number 5 in the alphabet\n",
    "\n",
    "# What I changed:\n",
    "\n",
    "I did i<10 to match the letter numbers \n",
    "\n",
    "# Segement 3:\n",
    "\n",
    "%%js\n",
    "\n",
    "let evens = [];\n",
    "let i = 0;\n",
    "\n",
    "while (i <= 10) {\n",
    "  evens.push(i);\n",
    "  i += 2;\n",
    "}\n",
    "\n",
    "console.log(evens);\n",
    "\n",
    "# What I changed:\n",
    "\n",
    "I changed the loop to start fromn 1 to get odd numbers"
   ]
  },
  {
   "cell_type": "raw",
   "metadata": {},
   "source": [
    "{% include nav_basics.html %}\n"
   ]
  },
  {
   "cell_type": "markdown",
   "metadata": {},
   "source": []
  }
 ],
 "metadata": {
  "kernelspec": {
   "display_name": "Python 3 (ipykernel)",
   "language": "python",
   "name": "python3"
  },
  "language_info": {
   "codemirror_mode": {
    "name": "ipython",
    "version": 3
   },
   "file_extension": ".py",
   "mimetype": "text/x-python",
   "name": "python",
   "nbconvert_exporter": "python",
   "pygments_lexer": "ipython3",
   "version": "3.12.0"
  }
 },
 "nbformat": 4,
 "nbformat_minor": 4
}

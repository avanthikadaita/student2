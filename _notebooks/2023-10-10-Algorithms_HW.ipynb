{
 "cells": [
  {
   "cell_type": "code",
   "execution_count": 1,
   "metadata": {},
   "outputs": [
    {
     "name": "stdout",
     "output_type": "stream",
     "text": [
      "Total # of characters (including spaces + numbers): 0\n",
      "Total vowels: 0\n",
      "Average word length: 0\n"
     ]
    }
   ],
   "source": [
    "def text_analyzer(input_string):\n",
    "    # Initialize variables to store counts\n",
    "    total_characters = 0\n",
    "    total_vowels = 0\n",
    "    total_letters = 0\n",
    "    total_numbers = 0\n",
    "    total_spaces = 0\n",
    "\n",
    "    input_string = input_string.lower()\n",
    "\n",
    "    for char in input_string:\n",
    "        if char.isalpha():\n",
    "            total_letters += 1\n",
    "\n",
    "            if char in 'aeiou':\n",
    "                total_vowels += 1\n",
    "\n",
    "        elif char.isdigit():\n",
    "            total_numbers += 1\n",
    "\n",
    "        elif char.isspace():\n",
    "            total_spaces += 1\n",
    "\n",
    "        total_characters += 1\n",
    "\n",
    "    if total_words > 0:\n",
    "        average_word_length = total_letters / total_words\n",
    "    else:\n",
    "        average_word_length = 0\n",
    "\n",
    "    print(\"Total # of characters (including spaces + numbers):\", total_characters)\n",
    "    print(\"Total vowels:\", total_vowels)\n",
    "    print(\"Average word length:\", average_word_length)\n",
    "\n",
    "user_input = input(\"Enter a string: \")\n",
    "\n",
    "words = user_input.split()\n",
    "total_words = len(words)\n",
    "\n",
    "text_analyzer(user_input)\n"
   ]
  }
 ],
 "metadata": {
  "kernelspec": {
   "display_name": "Python 3",
   "language": "python",
   "name": "python3"
  },
  "language_info": {
   "codemirror_mode": {
    "name": "ipython",
    "version": 3
   },
   "file_extension": ".py",
   "mimetype": "text/x-python",
   "name": "python",
   "nbconvert_exporter": "python",
   "pygments_lexer": "ipython3",
   "version": "3.11.4"
  },
  "orig_nbformat": 4
 },
 "nbformat": 4,
 "nbformat_minor": 2
}

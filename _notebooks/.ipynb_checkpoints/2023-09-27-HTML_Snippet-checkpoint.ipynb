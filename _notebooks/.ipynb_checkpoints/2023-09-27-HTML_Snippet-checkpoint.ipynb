{
 "cells": [
  {
   "cell_type": "code",
   "execution_count": 20,
   "metadata": {
    "vscode": {
     "languageId": "html"
    }
   },
   "outputs": [
    {
     "data": {
      "text/html": [
       "\n",
       "<h3>HTML: This is my HTML page</h3>\n",
       "<p>This is a paragraph.</p>\n",
       "\n",
       "\n",
       "<a href=\"https://www.w3schools.com/html/default.asp\">Visit W3Schools HTML Page</a>\n",
       "\n",
       "\n",
       "\n",
       "\n",
       "<div>\n",
       "    <p>This is a paragraph in section 1</p>\n",
       "    <p>This is a paragraph in section 2</p>\n",
       "</div>\n",
       "\n",
       "<div>\n",
       "    <p>This is the first paragraph of section 2</p>\n",
       "    <P>This is the second paragraph of section 2</P>\n",
       "</div>\n"
      ],
      "text/plain": [
       "<IPython.core.display.HTML object>"
      ]
     },
     "metadata": {},
     "output_type": "display_data"
    }
   ],
   "source": [
    "%%html\n",
    "\n",
    "<h3>HTML: This is my HTML page</h3>\n",
    "<p>This is a paragraph.</p>\n",
    "\n",
    "\n",
    "<a href=\"https://www.w3schools.com/html/default.asp\">Visit W3Schools HTML Page</a>\n",
    "\n",
    "\n",
    "\n",
    "\n",
    "<div>\n",
    "    <p>This is a paragraph in section 1</p>\n",
    "    <p>This is a paragraph in section 2</p>\n",
    "</div>\n",
    "\n",
    "<div>\n",
    "    <p>This is the first paragraph of section 2</p>\n",
    "    <P>This is the second paragraph of section 2</P>\n",
    "</div>"
   ]
  }
 ],
 "metadata": {
  "kernelspec": {
   "display_name": "Python 3 (ipykernel)",
   "language": "python",
   "name": "python3"
  },
  "language_info": {
   "codemirror_mode": {
    "name": "ipython",
    "version": 3
   },
   "file_extension": ".py",
   "mimetype": "text/x-python",
   "name": "python",
   "nbconvert_exporter": "python",
   "pygments_lexer": "ipython3",
   "version": "3.11.4"
  }
 },
 "nbformat": 4,
 "nbformat_minor": 4
}

{
 "cells": [
  {
   "cell_type": "code",
   "execution_count": null,
   "metadata": {},
   "outputs": [],
   "source": [
    "%%js\n",
    "const table = document.getElementById('data-table');\n",
    "data.forEach((item) => {\n",
    "    const row = table.insertRow();\n",
    "    const cell1 = row.insertCell(0);\n",
    "    const cell2 = row.insertCell(1);\n",
    "    cell1.innerHTML = item.label;\n",
    "    cell2.innerHTML = item.value;\n",
    "});"
   ]
  }
 ],
 "metadata": {
  "kernelspec": {
   "display_name": "Python 3 (ipykernel)",
   "language": "python",
   "name": "python3"
  },
  "language_info": {
   "codemirror_mode": {
    "name": "ipython",
    "version": 3
   },
   "file_extension": ".py",
   "mimetype": "text/x-python",
   "name": "python",
   "nbconvert_exporter": "python",
   "pygments_lexer": "ipython3",
   "version": "3.11.6"
  }
 },
 "nbformat": 4,
 "nbformat_minor": 4
}

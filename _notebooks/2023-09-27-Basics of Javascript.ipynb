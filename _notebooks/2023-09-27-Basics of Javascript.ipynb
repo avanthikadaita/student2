{
 "cells": [
  {
   "cell_type": "code",
   "execution_count": 4,
   "metadata": {
    "vscode": {
     "languageId": "html"
    }
   },
   "outputs": [
    {
     "data": {
      "text/html": [
       "var a = 10;\n",
       "var b = 5;\n",
       "\n",
       "if (a > b) {\n",
       "    console.log(\"a is greater\");\n",
       "} else if (b > a) {\n",
       "    console.log(\"b is greater\");\n",
       "} else {\n",
       "    console.log(\"both are equal\");\n",
       "}\n"
      ],
      "text/plain": [
       "<IPython.core.display.HTML object>"
      ]
     },
     "metadata": {},
     "output_type": "display_data"
    }
   ],
   "source": [
    "%%html\n",
    "var a = 10;\n",
    "var b = 5;\n",
    "\n",
    "if (a > b) {\n",
    "    console.log(\"a is greater\");\n",
    "} else if (b > a) {\n",
    "    console.log(\"b is greater\");\n",
    "} else {\n",
    "    console.log(\"both are equal\");\n",
    "}\n"
   ]
  }
 ],
 "metadata": {
  "kernelspec": {
   "display_name": "Python 3 (ipykernel)",
   "language": "python",
   "name": "python3"
  },
  "language_info": {
   "codemirror_mode": {
    "name": "ipython",
    "version": 3
   },
   "file_extension": ".py",
   "mimetype": "text/x-python",
   "name": "python",
   "nbconvert_exporter": "python",
   "pygments_lexer": "ipython3",
   "version": "3.11.4"
  }
 },
 "nbformat": 4,
 "nbformat_minor": 4
}

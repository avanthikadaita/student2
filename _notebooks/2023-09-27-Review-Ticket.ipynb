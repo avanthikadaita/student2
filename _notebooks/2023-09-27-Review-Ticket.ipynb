{
 "cells": [
  {
   "cell_type": "markdown",
   "metadata": {
    "vscode": {
     "languageId": "html"
    }
   },
   "source": [
    "Avanthika’s Grade\n",
    ".5 point: Have a working HTML code cell in a notebook based on the wireframe representation provided under HTML hacks (HTML Hack). Added a Daily STudy Tracker\n",
    ".5 point: Have a working javascript code cell in a notebook based on the instructions provided under data types hacks (Data Types Hack)\n",
    ".5 point: Have a working javascript code cell in a notebook which modifies elements in the first HTML code cell hack or another HTML code cell based on the same wireframe representation (DOM Hack)\n",
    ".5 point: Have a working javascript code cell in a notebook based on the instructions provided in the javascript hack (Javascript Hack)\n",
    ".5 point: Have code cells in a notebook which shows the corrections made to the first three code cells in the 1.4 correcting errors page (Correcting Errors Hack) Added a form for challenge.\n",
    "3.85/4 Good job on going above and beyond. Utterances working.\n",
    "\n",
    "Eun’s Grade\n",
    ".5 point: Have a working HTML code cell in a notebook based on the wireframe representation provided under HTML hacks (HTML Hack). Added a Daily Study Tracker.\n",
    ".5 point: Have a working javascript code cell in a notebook based on the instructions provided under data types hacks (Data Types Hack)\n",
    ".5 point: Have a working javascript code cell in a notebook which modifies elements in the first HTML code cell hack or another HTML code cell based on the same wireframe representation (DOM Hack)\n",
    ".5 point: Have a working javascript code cell in a notebook based on the instructions provided in the javascript hack (Javascript Hack)\n",
    ".5 point: Have code cells in a notebook which shows the corrections made to the first three code cells in the 1.4 correcting errors page (Correcting Errors Hack) Added a form for challenge.\n",
    "3.8/4 Good job on going above and beyond.utterances not working\n",
    "\n",
    "Bella's Grade\n",
    ".5 point: Have a working HTML code cell in a notebook based on the wireframe representation provided under HTML hacks (HTML Hack). Added a Daily Study Tracker.\n",
    ".5 point: Have a working javascript code cell in a notebook based on the instructions provided under data types hacks (Data Types Hack)\n",
    ".5 point: Have a working javascript code cell in a notebook which modifies elements in the first HTML code cell hack or another HTML code cell based on the same wireframe representation (DOM Hack)\n",
    ".5 point: Have a working javascript code cell in a notebook based on the instructions provided in the javascript hack (Javascript Hack)\n",
    ".5 point: Have code cells in a notebook which shows the corrections made to the first three code cells in the 1.4 correcting errors page (Correcting Errors Hack) Added a form for challenge.\n",
    "3.8/4 Good job and adding more than needed\n",
    "\n",
    "Lakshanya’s Grade\n",
    ".5 point: Have a working HTML code cell in a notebook based on the wireframe representation provided under HTML hacks (HTML Hack) Also included passion project page. Could be more advanced!\n",
    ".5 point: Have a working javascript code cell in a notebook based on the instructions provided under data types hacks (Data Types Hack)\n",
    ".5 point: Have a working javascript code cell in a notebook which modifies elements in the first HTML code cell hack or another HTML code cell based on the same wireframe representation (DOM Hack) One of the hacks doesn’t work.\n",
    ".5 point: Have a working javascript code cell in a notebook based on the instructions provided in the javascript hack (Javascript Hack) Works in Jupyter Notebook but not on the actual site\n",
    ".5 point: Have code cells in a notebook which shows the corrections made to the first three code cells in the 1.4 correcting errors page (Correcting Errors Hack) Works in site but not in jupyter notebook…..?\n",
    "utterances not working more sophistication needed 3.8/4"
   ]
  },
  {
   "cell_type": "markdown",
   "metadata": {},
   "source": [
    "---\n",
    "layout: default\n",
    "title: Web Programming Basics\n",
    "description: An introduction to key topics in Web Programming\n",
    "courses: { compsci: {week: 6} }\n",
    "type: hacks\n",
    "permalink: /basics/home\n",
    "comments: true\n",
    "---"
   ]
  },
  {
   "cell_type": "code",
   "execution_count": null,
   "metadata": {
    "vscode": {
     "languageId": "plaintext"
    }
   },
   "outputs": [],
   "source": [
    "{% include nav_basics.html %}\n"
   ]
  },
  {
   "cell_type": "markdown",
   "metadata": {},
   "source": []
  }
 ],
 "metadata": {
  "kernelspec": {
   "display_name": "Python 3 (ipykernel)",
   "language": "python",
   "name": "python3"
  },
  "language_info": {
   "codemirror_mode": {
    "name": "ipython",
    "version": 3
   },
   "file_extension": ".py",
   "mimetype": "text/x-python",
   "name": "python",
   "nbconvert_exporter": "python",
   "pygments_lexer": "ipython3",
   "version": "3.11.4"
  }
 },
 "nbformat": 4,
 "nbformat_minor": 4
}

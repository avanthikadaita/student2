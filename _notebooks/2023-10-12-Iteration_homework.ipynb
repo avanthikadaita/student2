{
 "cells": [
  {
   "cell_type": "code",
   "execution_count": null,
   "id": "5b971091",
   "metadata": {},
   "outputs": [],
   "source": [
    "def shortestToLongestSorter(items):\n",
    "    numbers = [item for item in items if isinstance(item, int)]\n",
    "    strings = [item for item in items if isinstance(item, str)]\n",
    "\n",
    "    numbers.sort(reverse=True)\n",
    "\n",
    "    strings.sort(key=lambda x: len(x))\n",
    "\n",
    "    sorted_items = numbers + strings\n",
    "\n",
    "    return sorted_items\n",
    "\n",
    "input_list = [35, 4, 6, 90, 2, 55, 13, 8, \"Car\", 4, 11, \"twenty\", 27, \"trees\"]\n",
    "sorted_list = shortestToLongestSorter(input_list)\n",
    "print(sorted_list)\n",
    "\n",
    "\n"
   ]
  }
 ],
 "metadata": {
  "kernelspec": {
   "display_name": "Python 3 (ipykernel)",
   "language": "python",
   "name": "python3"
  },
  "language_info": {
   "codemirror_mode": {
    "name": "ipython",
    "version": 3
   },
   "file_extension": ".py",
   "mimetype": "text/x-python",
   "name": "python",
   "nbconvert_exporter": "python",
   "pygments_lexer": "ipython3",
   "version": "3.10.12"
  }
 },
 "nbformat": 4,
 "nbformat_minor": 5
}

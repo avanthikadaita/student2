{
 "cells": [
  {
   "cell_type": "markdown",
   "metadata": {},
   "source": [
    "---\n",
    "toc: true\n",
    "comments: false\n",
    "layout: post\n",
    "title: Homework problems Data Abstractions\n",
    "type: hacks\n",
    "courses: { csp: {week: 4} }\n",
    "---\n",
    "\n",
    "### Introduction\n",
    "- Here is the homework prompt"
   ]
  },
  {
   "cell_type": "markdown",
   "metadata": {},
   "source": [
    "### Problem 1\n",
    "- Two airplanes are in a race, your job is to make a plane name list, append the name value to the participents  then make a variable that pulls the distance covered for each plane. in the end, in the curly brackets print the name of the plane, add more variables with curly brackets. "
   ]
  },
  {
   "cell_type": "code",
   "execution_count": 4,
   "metadata": {},
   "outputs": [
    {
     "name": "stdout",
     "output_type": "stream",
     "text": [
      "Billium Bang covered 1200 miles.\n",
      "Bushawn Bal covered 1500 miles.\n",
      "The winner of the airplane race is Bushawn Bal in the 'The Biggest Bird' with a distance of 1500 miles!\n"
     ]
    }
   ],
   "source": [
    "participants = [\n",
    "    {\"name\": \"Billium Bang\", \"plane\": \"Red Rocket\", \"distance_covered\": 1200},\n",
    "    {\"name\": \"Bushawn Bal\", \"plane\": \"The Biggest Bird\", \"distance_covered\": 1500}\n",
    "]\n",
    "\n",
    "for participant in participants:\n",
    "    distance_covered = participant[\"distance_covered\"]\n",
    "    print(f\"{participant['name']} covered {distance_covered} miles.\")\n",
    "    \n",
    "winner = max(participants, key=lambda x: x[\"distance_covered\"])\n",
    "print(f\"The winner of the airplane race is {winner['name']} in the '{winner['plane']}' with a distance of {winner['distance_covered']} miles!\")\n"
   ]
  },
  {
   "cell_type": "markdown",
   "metadata": {},
   "source": [
    "### Problem 2\n",
    "- Add more participants , in the loop, add a tricks variable that gets data from participants list\n",
    "    score = tricks * 10  # Each trick is worth 10 points\n",
    "    add a score and add it to a score in the list ex list[score] = score"
   ]
  },
  {
   "cell_type": "code",
   "execution_count": 5,
   "metadata": {},
   "outputs": [
    {
     "name": "stdout",
     "output_type": "stream",
     "text": [
      "Dog Show Results:\n",
      "Fido scored 40 points!\n",
      "The winner of the dog show is Fido with 40 points!\n"
     ]
    }
   ],
   "source": [
    "participants = [\n",
    "    {\"name\": \"Fido\", \"breed\": \"Golden Retriever\", \"tricks\": 4},\n",
    "]\n",
    "\n",
    "for participant in participants:\n",
    "    tricks = participant[\"tricks\"]\n",
    "    score = tricks * 10  # Each trick is worth 10 points\n",
    "    participant[\"score\"] = score\n",
    "\n",
    "winner = max(participants, key=lambda x: x[\"score\"])\n",
    "\n",
    "print(\"Dog Show Results:\")\n",
    "for participant in participants:\n",
    "    print(f\"{participant['name']} scored {participant['score']} points!\")\n",
    "\n",
    "print(f\"The winner of the dog show is {winner['name']} with {winner['score']} points!\")\n"
   ]
  },
  {
   "cell_type": "markdown",
   "metadata": {},
   "source": [
    "this problem, were making a bank account, you just have to know what to do to add all of the functions to change the variables"
   ]
  },
  {
   "cell_type": "code",
   "execution_count": 6,
   "metadata": {},
   "outputs": [
    {
     "name": "stdout",
     "output_type": "stream",
     "text": [
      "Withdrew $500. New balance: $500\n",
      "Deposited $500. New balance: $505\n",
      "Account holder: Alex, Balance: $500\n",
      "Account holder: Noah, Balance: $505\n"
     ]
    }
   ],
   "source": [
    "class BankAccount:\n",
    "    def __init__(self, account_holder, balance=0):\n",
    "        self.account_holder = account_holder\n",
    "        self.balance = balance\n",
    "\n",
    "    def deposit(self, amount):\n",
    "        if amount > 0:\n",
    "            self.balance += amount\n",
    "            print(f\"Deposited ${amount}. New balance: ${self.balance}\")\n",
    "        else:\n",
    "            print(\"Invalid deposit amount.\")\n",
    "\n",
    "    def withdraw(self, amount):\n",
    "        if 0 < amount <= self.balance:\n",
    "            self.balance -= amount\n",
    "            print(f\"Withdrew ${amount}. New balance: ${self.balance}\")\n",
    "        else:\n",
    "            print(\"Insufficient funds.\")\n",
    "\n",
    "    def get_balance(self):\n",
    "        return self.balance\n",
    "\n",
    "    def __str__(self):\n",
    "        return f\"Account holder: {self.account_holder}, Balance: ${self.balance}\"\n",
    "\n",
    "alexAccount = BankAccount(\"Alex\", 1000)\n",
    "noahAccount = BankAccount(\"Noah\", 5)\n",
    "\n",
    "alexAccount.withdraw(500)\n",
    "noahAccount.deposit(500)\n",
    "\n",
    "print(alexAccount)\n",
    "print(noahAccount)\n"
   ]
  },
  {
   "cell_type": "markdown",
   "metadata": {},
   "source": [
    "### add more regions\n"
   ]
  },
  {
   "cell_type": "code",
   "execution_count": 11,
   "metadata": {},
   "outputs": [],
   "source": [
    "import random\n",
    "\n",
    "regions = [\n",
    "    {\n",
    "        \"name\": \"Region A\",\n",
    "        \"GDP_growth\": random.uniform(0.5, 3.0),\n",
    "        \"unemployment_rate\": random.uniform(3.0, 10.0),\n",
    "        \"investment_score\": random.uniform(50, 100),\n",
    "        \"education_index\": random.uniform(0.5, 1.0),\n",
    "        \"infrastructure_quality\": random.uniform(3.0, 8.0)\n",
    "    }\n",
    "]\n",
    "\n",
    "def add_region(name):\n",
    "    new_region = {\n",
    "        \"name\": name,\n",
    "        \"GDP_growth\": random.uniform(0.5, 3.0),\n",
    "        \"unemployment_rate\": random.uniform(3.0, 10.0),\n",
    "        \"investment_score\": random.uniform(50, 100),\n",
    "        \"education_index\": random.uniform(0.5, 1.0),\n",
    "        \"infrastructure_quality\": random.uniform(3.0, 8.0)\n",
    "    }\n",
    "    regions.append(new_region)\n",
    "\n",
    "add_region(\"Region B\")\n",
    "add_region(\"Region C\")"
   ]
  },
  {
   "cell_type": "markdown",
   "metadata": {},
   "source": [
    "### problem final\n",
    "\n",
    "- make an empty list and dictionary\n",
    "- add data in all of the given simple loops, so that this problem runs its print functions without error\n",
    "- this one is hard, try very hard, a heartfelt atempt, like all of the code done with minor issues is still full credit\n",
    "\n",
    "try to understand this problem, it has lots of data abstractions\n",
    "\n",
    "data is given on the bottem and a function is calling it IMPORTANT!!!\n"
   ]
  },
  {
   "cell_type": "code",
   "execution_count": 12,
   "metadata": {},
   "outputs": [
    {
     "name": "stdout",
     "output_type": "stream",
     "text": [
      "{'New York': {'names': ['Alice', 'Charlie'], 'total_age': 47, 'total_people': 2, 'average_age': 23.5}, 'Los Angeles': {'names': ['Bob', 'David'], 'total_age': 65, 'total_people': 2, 'average_age': 32.5}, 'Chicago': {'names': ['Eve'], 'total_age': 28, 'total_people': 1, 'average_age': 28.0}, 'Statistics': {'New York': {'total_people': 2, 'average_age': 23.5}, 'Los Angeles': {'total_people': 2, 'average_age': 32.5}, 'Chicago': {'total_people': 1, 'average_age': 28.0}}}\n"
     ]
    }
   ],
   "source": [
    "def simulate_data_structure(data):\n",
    "    city_data = {}  \n",
    "    city_stats = {}  \n",
    "\n",
    "    for person in data:\n",
    "        name = person[\"name\"]\n",
    "        age = person[\"age\"]\n",
    "        city = person[\"city\"]\n",
    "\n",
    "        if city not in city_data:\n",
    "            city_data[city] = {\"names\": [], \"total_age\": 0, \"total_people\": 0}\n",
    "\n",
    "        city_data[city][\"names\"].append(name)\n",
    "        city_data[city][\"total_age\"] += age\n",
    "        city_data[city][\"total_people\"] += 1\n",
    "\n",
    "    for city, city_info in city_data.items():\n",
    "        average_age = city_info[\"total_age\"] / city_info[\"total_people\"]\n",
    "        city_info[\"average_age\"] = round(average_age, 2)\n",
    "\n",
    "        city_stats[city] = {\n",
    "            \"total_people\": city_info[\"total_people\"],\n",
    "            \"average_age\": city_info[\"average_age\"]\n",
    "        }\n",
    "\n",
    "    city_data[\"Statistics\"] = city_stats\n",
    "\n",
    "    return city_data\n",
    "\n",
    "data = [\n",
    "    {\"name\": \"Alice\", \"age\": 25, \"city\": \"New York\"},\n",
    "    {\"name\": \"Bob\", \"age\": 30, \"city\": \"Los Angeles\"},\n",
    "    {\"name\": \"Charlie\", \"age\": 22, \"city\": \"New York\"},\n",
    "    {\"name\": \"David\", \"age\": 35, \"city\": \"Los Angeles\"},\n",
    "    {\"name\": \"Eve\", \"age\": 28, \"city\": \"Chicago\"},\n",
    "]\n",
    "\n",
    "result = simulate_data_structure(data)\n",
    "print(result)"
   ]
  },
  {
   "cell_type": "code",
   "execution_count": 13,
   "metadata": {},
   "outputs": [
    {
     "name": "stdout",
     "output_type": "stream",
     "text": [
      "Ingredients:\n",
      "- butter\n",
      "- white sugar\n",
      "- light brown sugar\n",
      "- vanilla extract\n",
      "- eggs\n",
      "- flour\n",
      "- chocolate chips\n",
      "- baking soda\n",
      "- salt\n",
      "- baking powder\n",
      "\n",
      "Bowl Ingredients:\n",
      "- flour\n",
      "- baking soda\n",
      "- salt\n",
      "- baking powder\n",
      "\n",
      "Cream Ingredients:\n",
      "- butter\n",
      "- white sugar\n",
      "- light brown sugar\n",
      "- vanilla extract\n",
      "- eggs\n",
      "\n",
      "Dough Ingredients:\n",
      "- flour\n",
      "- baking soda\n",
      "- salt\n",
      "- baking powder\n",
      "- butter\n",
      "- white sugar\n",
      "- light brown sugar\n",
      "- vanilla extract\n",
      "- eggs\n",
      "- chocolate chips\n",
      "\n",
      "Now roll the dough into balls and place them on cookie sheets!\n",
      "Place in a 375°F oven for 8-10 minutes and remove just before they start to turn brown.\n",
      "Let them sit on the baking pan for 2 minutes before removing to cooling rack.\n",
      "Enjoy your CHOCOLATE CHIP COOKIES!!!\n"
     ]
    }
   ],
   "source": [
    "ingredients = [\"butter\", \"white sugar\", \"light brown sugar\", \"vanilla extract\", \"eggs\", \"flour\", \"chocolate chips\", \"baking soda\", \"salt\", \"baking powder\"]\n",
    "\n",
    "print(\"Ingredients:\")\n",
    "for ingredient in ingredients:\n",
    "    print(\"-\", ingredient)\n",
    "\n",
    "bowl = [\"flour\", \"baking soda\", \"salt\", \"baking powder\"]\n",
    "cream = [\"butter\", \"white sugar\", \"light brown sugar\", \"vanilla extract\", \"eggs\"]\n",
    "dough = bowl + cream\n",
    "\n",
    "for item in bowl + cream:\n",
    "    ingredients.remove(item)\n",
    "\n",
    "dough.append(\"chocolate chips\")\n",
    "ingredients.remove(\"chocolate chips\")\n",
    "\n",
    "print(\"\\nBowl Ingredients:\")\n",
    "for item in bowl:\n",
    "    print(\"-\", item)\n",
    "\n",
    "print(\"\\nCream Ingredients:\")\n",
    "for item in cream:\n",
    "    print(\"-\", item)\n",
    "\n",
    "print(\"\\nDough Ingredients:\")\n",
    "for item in dough:\n",
    "    print(\"-\", item)\n",
    "\n",
    "print(\"\\nNow roll the dough into balls and place them on cookie sheets!\")\n",
    "\n",
    "temperature = 375\n",
    "print(f\"Place in a {temperature}°F oven for 8-10 minutes and remove just before they start to turn brown.\")\n",
    "\n",
    "cool_down = 2\n",
    "print(f\"Let them sit on the baking pan for {cool_down} minutes before removing to cooling rack.\")\n",
    "\n",
    "strings = [\"Enjoy\", \"your\", \"CHOCOLATE\", \"CHIP\", \"COOKIES!!!\"]\n",
    "print(\" \".join(strings))\n"
   ]
  }
 ],
 "metadata": {
  "kernelspec": {
   "display_name": "Python 3",
   "language": "python",
   "name": "python3"
  },
  "language_info": {
   "codemirror_mode": {
    "name": "ipython",
    "version": 3
   },
   "file_extension": ".py",
   "mimetype": "text/x-python",
   "name": "python",
   "nbconvert_exporter": "python",
   "pygments_lexer": "ipython3",
   "version": "3.11.4"
  },
  "orig_nbformat": 4
 },
 "nbformat": 4,
 "nbformat_minor": 2
}
